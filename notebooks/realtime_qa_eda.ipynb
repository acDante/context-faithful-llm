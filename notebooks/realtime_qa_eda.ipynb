{
 "cells": [
  {
   "cell_type": "code",
   "execution_count": 1,
   "metadata": {},
   "outputs": [],
   "source": [
    "# Explore the format of realtime QA data\n",
    "\n",
    "import json\n",
    "from pathlib import Path"
   ]
  },
  {
   "cell_type": "code",
   "execution_count": 10,
   "metadata": {},
   "outputs": [
    {
     "name": "stdout",
     "output_type": "stream",
     "text": [
      "113\n",
      "3\n"
     ]
    }
   ],
   "source": [
    "# Load Realtime QA data and few-shot samples (3 demonstrations)\n",
    "\n",
    "dataset_path = Path(\"/home/xiaotang/Project/context-faithful-llm/datasets/\")\n",
    "data_path = dataset_path / \"realtime_qa/realtime_qa_data.json\"\n",
    "demo_path =  dataset_path / \"realtime_qa/realtime_qa_demo_data.json\"\n",
    "\n",
    "with open(data_path, 'r') as fin:\n",
    "    test_data = json.load(fin)\n",
    "\n",
    "with open(demo_path, 'r') as fin:\n",
    "    demo_data = json.load(fin)\n",
    "\n",
    "print(len(test_data))\n",
    "print(len(demo_data))"
   ]
  },
  {
   "cell_type": "code",
   "execution_count": 11,
   "metadata": {},
   "outputs": [
    {
     "name": "stdout",
     "output_type": "stream",
     "text": [
      "dict_keys(['context', 'question', 'choices', 'answer'])\n"
     ]
    }
   ],
   "source": [
    "sample = demo_data[0]\n",
    "print(sample.keys())\n",
    "\n",
    "context = sample['context']\n",
    "question = sample['question']\n"
   ]
  }
 ],
 "metadata": {
  "kernelspec": {
   "display_name": "llm",
   "language": "python",
   "name": "python3"
  },
  "language_info": {
   "codemirror_mode": {
    "name": "ipython",
    "version": 3
   },
   "file_extension": ".py",
   "mimetype": "text/x-python",
   "name": "python",
   "nbconvert_exporter": "python",
   "pygments_lexer": "ipython3",
   "version": "3.10.13"
  }
 },
 "nbformat": 4,
 "nbformat_minor": 2
}
